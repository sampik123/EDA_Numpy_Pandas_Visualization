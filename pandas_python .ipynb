{
 "cells": [
  {
   "cell_type": "markdown",
   "id": "a7803de8",
   "metadata": {},
   "source": [
    "# Pandas \n",
    "***whenever we have to use dataframe and rows or column"
   ]
  },
  {
   "cell_type": "code",
   "execution_count": 3,
   "id": "0412ab97",
   "metadata": {},
   "outputs": [],
   "source": [
    "import pandas as pd "
   ]
  },
  {
   "cell_type": "code",
   "execution_count": 4,
   "id": "4bc31b06",
   "metadata": {},
   "outputs": [],
   "source": [
    "labels=['a','b','c','d']"
   ]
  },
  {
   "cell_type": "code",
   "execution_count": 5,
   "id": "d71bbdd9",
   "metadata": {},
   "outputs": [],
   "source": [
    "list=[10,28,3,4]"
   ]
  },
  {
   "cell_type": "code",
   "execution_count": 6,
   "id": "b41f1cc8",
   "metadata": {},
   "outputs": [],
   "source": [
    "import numpy as np"
   ]
  },
  {
   "cell_type": "code",
   "execution_count": 7,
   "id": "c03c8936",
   "metadata": {},
   "outputs": [],
   "source": [
    "array=np.array([1,2,3,4])"
   ]
  },
  {
   "cell_type": "code",
   "execution_count": 10,
   "id": "a6830d82",
   "metadata": {},
   "outputs": [],
   "source": [
    "dict={'w':10,'x':20,'y':30,'z':40}"
   ]
  },
  {
   "cell_type": "code",
   "execution_count": 12,
   "id": "bf12274c",
   "metadata": {},
   "outputs": [
    {
     "data": {
      "text/plain": [
       "0    10\n",
       "1    28\n",
       "2     3\n",
       "3     4\n",
       "dtype: int64"
      ]
     },
     "execution_count": 12,
     "metadata": {},
     "output_type": "execute_result"
    }
   ],
   "source": [
    "pd.Series(data=list)"
   ]
  },
  {
   "cell_type": "code",
   "execution_count": 14,
   "id": "767161c5",
   "metadata": {},
   "outputs": [
    {
     "data": {
      "text/plain": [
       "a    10\n",
       "b    28\n",
       "c     3\n",
       "d     4\n",
       "dtype: int64"
      ]
     },
     "execution_count": 14,
     "metadata": {},
     "output_type": "execute_result"
    }
   ],
   "source": [
    "pd.Series(data=list,index=labels)"
   ]
  },
  {
   "cell_type": "code",
   "execution_count": 15,
   "id": "edcc12ef",
   "metadata": {},
   "outputs": [
    {
     "data": {
      "text/plain": [
       "10    a\n",
       "28    b\n",
       "3     c\n",
       "4     d\n",
       "dtype: object"
      ]
     },
     "execution_count": 15,
     "metadata": {},
     "output_type": "execute_result"
    }
   ],
   "source": [
    "pd.Series(labels,list)"
   ]
  },
  {
   "cell_type": "code",
   "execution_count": null,
   "id": "665fa945",
   "metadata": {},
   "outputs": [],
   "source": []
  },
  {
   "cell_type": "markdown",
   "id": "0423d08d",
   "metadata": {},
   "source": [
    "# pandas dataframe and indexing"
   ]
  },
  {
   "cell_type": "code",
   "execution_count": 17,
   "id": "e81c36ba",
   "metadata": {},
   "outputs": [],
   "source": [
    "sports1=pd.Series([1,2,3,4],index=['cricket','football','basketball','golf'])"
   ]
  },
  {
   "cell_type": "code",
   "execution_count": 18,
   "id": "bf029522",
   "metadata": {},
   "outputs": [
    {
     "data": {
      "text/plain": [
       "cricket       1\n",
       "football      2\n",
       "basketball    3\n",
       "golf          4\n",
       "dtype: int64"
      ]
     },
     "execution_count": 18,
     "metadata": {},
     "output_type": "execute_result"
    }
   ],
   "source": [
    "sports1"
   ]
  },
  {
   "cell_type": "code",
   "execution_count": 20,
   "id": "7a89e004",
   "metadata": {},
   "outputs": [],
   "source": [
    "sports2=pd.Series([11,13,12,4],index=['cricket','football','baseball','golf'])"
   ]
  },
  {
   "cell_type": "code",
   "execution_count": 21,
   "id": "d46a287e",
   "metadata": {},
   "outputs": [
    {
     "data": {
      "text/plain": [
       "baseball       NaN\n",
       "basketball     NaN\n",
       "cricket       12.0\n",
       "football      15.0\n",
       "golf           8.0\n",
       "dtype: float64"
      ]
     },
     "execution_count": 21,
     "metadata": {},
     "output_type": "execute_result"
    }
   ],
   "source": [
    "sports1+sports2"
   ]
  },
  {
   "cell_type": "code",
   "execution_count": 28,
   "id": "d671c132",
   "metadata": {},
   "outputs": [
    {
     "data": {
      "text/html": [
       "<div>\n",
       "<style scoped>\n",
       "    .dataframe tbody tr th:only-of-type {\n",
       "        vertical-align: middle;\n",
       "    }\n",
       "\n",
       "    .dataframe tbody tr th {\n",
       "        vertical-align: top;\n",
       "    }\n",
       "\n",
       "    .dataframe thead th {\n",
       "        text-align: right;\n",
       "    }\n",
       "</style>\n",
       "<table border=\"1\" class=\"dataframe\">\n",
       "  <thead>\n",
       "    <tr style=\"text-align: right;\">\n",
       "      <th></th>\n",
       "      <th>Score1</th>\n",
       "      <th>Score2</th>\n",
       "      <th>Score3</th>\n",
       "      <th>Score4</th>\n",
       "      <th>Score5</th>\n",
       "    </tr>\n",
       "  </thead>\n",
       "  <tbody>\n",
       "    <tr>\n",
       "      <th>A</th>\n",
       "      <td>0.584218</td>\n",
       "      <td>0.321758</td>\n",
       "      <td>0.335009</td>\n",
       "      <td>0.234869</td>\n",
       "      <td>0.664683</td>\n",
       "    </tr>\n",
       "    <tr>\n",
       "      <th>B</th>\n",
       "      <td>0.630178</td>\n",
       "      <td>0.838517</td>\n",
       "      <td>0.081457</td>\n",
       "      <td>0.226407</td>\n",
       "      <td>0.131934</td>\n",
       "    </tr>\n",
       "    <tr>\n",
       "      <th>C</th>\n",
       "      <td>0.545893</td>\n",
       "      <td>0.927480</td>\n",
       "      <td>0.375512</td>\n",
       "      <td>0.632587</td>\n",
       "      <td>0.734600</td>\n",
       "    </tr>\n",
       "    <tr>\n",
       "      <th>D</th>\n",
       "      <td>0.276412</td>\n",
       "      <td>0.191296</td>\n",
       "      <td>0.165692</td>\n",
       "      <td>0.548404</td>\n",
       "      <td>0.890795</td>\n",
       "    </tr>\n",
       "    <tr>\n",
       "      <th>E</th>\n",
       "      <td>0.473781</td>\n",
       "      <td>0.731212</td>\n",
       "      <td>0.645393</td>\n",
       "      <td>0.173904</td>\n",
       "      <td>0.825305</td>\n",
       "    </tr>\n",
       "    <tr>\n",
       "      <th>F</th>\n",
       "      <td>0.868140</td>\n",
       "      <td>0.610624</td>\n",
       "      <td>0.188179</td>\n",
       "      <td>0.821061</td>\n",
       "      <td>0.452391</td>\n",
       "    </tr>\n",
       "    <tr>\n",
       "      <th>G</th>\n",
       "      <td>0.945561</td>\n",
       "      <td>0.817869</td>\n",
       "      <td>0.232153</td>\n",
       "      <td>0.954589</td>\n",
       "      <td>0.176728</td>\n",
       "    </tr>\n",
       "    <tr>\n",
       "      <th>H</th>\n",
       "      <td>0.338402</td>\n",
       "      <td>0.500875</td>\n",
       "      <td>0.727127</td>\n",
       "      <td>0.064840</td>\n",
       "      <td>0.395610</td>\n",
       "    </tr>\n",
       "  </tbody>\n",
       "</table>\n",
       "</div>"
      ],
      "text/plain": [
       "     Score1    Score2    Score3    Score4    Score5\n",
       "A  0.584218  0.321758  0.335009  0.234869  0.664683\n",
       "B  0.630178  0.838517  0.081457  0.226407  0.131934\n",
       "C  0.545893  0.927480  0.375512  0.632587  0.734600\n",
       "D  0.276412  0.191296  0.165692  0.548404  0.890795\n",
       "E  0.473781  0.731212  0.645393  0.173904  0.825305\n",
       "F  0.868140  0.610624  0.188179  0.821061  0.452391\n",
       "G  0.945561  0.817869  0.232153  0.954589  0.176728\n",
       "H  0.338402  0.500875  0.727127  0.064840  0.395610"
      ]
     },
     "execution_count": 28,
     "metadata": {},
     "output_type": "execute_result"
    }
   ],
   "source": [
    "df1=pd.DataFrame(np.random.rand(8,5),index='A B C D E F G H'.split(),columns='Score1 Score2 Score3 Score4 Score5'.split())\n",
    "df1"
   ]
  },
  {
   "cell_type": "code",
   "execution_count": 29,
   "id": "ce323f3f",
   "metadata": {},
   "outputs": [
    {
     "data": {
      "text/html": [
       "<div>\n",
       "<style scoped>\n",
       "    .dataframe tbody tr th:only-of-type {\n",
       "        vertical-align: middle;\n",
       "    }\n",
       "\n",
       "    .dataframe tbody tr th {\n",
       "        vertical-align: top;\n",
       "    }\n",
       "\n",
       "    .dataframe thead th {\n",
       "        text-align: right;\n",
       "    }\n",
       "</style>\n",
       "<table border=\"1\" class=\"dataframe\">\n",
       "  <thead>\n",
       "    <tr style=\"text-align: right;\">\n",
       "      <th></th>\n",
       "      <th>Score2</th>\n",
       "      <th>Score1</th>\n",
       "      <th>Score5</th>\n",
       "    </tr>\n",
       "  </thead>\n",
       "  <tbody>\n",
       "    <tr>\n",
       "      <th>A</th>\n",
       "      <td>0.321758</td>\n",
       "      <td>0.584218</td>\n",
       "      <td>0.664683</td>\n",
       "    </tr>\n",
       "    <tr>\n",
       "      <th>B</th>\n",
       "      <td>0.838517</td>\n",
       "      <td>0.630178</td>\n",
       "      <td>0.131934</td>\n",
       "    </tr>\n",
       "    <tr>\n",
       "      <th>C</th>\n",
       "      <td>0.927480</td>\n",
       "      <td>0.545893</td>\n",
       "      <td>0.734600</td>\n",
       "    </tr>\n",
       "    <tr>\n",
       "      <th>D</th>\n",
       "      <td>0.191296</td>\n",
       "      <td>0.276412</td>\n",
       "      <td>0.890795</td>\n",
       "    </tr>\n",
       "    <tr>\n",
       "      <th>E</th>\n",
       "      <td>0.731212</td>\n",
       "      <td>0.473781</td>\n",
       "      <td>0.825305</td>\n",
       "    </tr>\n",
       "    <tr>\n",
       "      <th>F</th>\n",
       "      <td>0.610624</td>\n",
       "      <td>0.868140</td>\n",
       "      <td>0.452391</td>\n",
       "    </tr>\n",
       "    <tr>\n",
       "      <th>G</th>\n",
       "      <td>0.817869</td>\n",
       "      <td>0.945561</td>\n",
       "      <td>0.176728</td>\n",
       "    </tr>\n",
       "    <tr>\n",
       "      <th>H</th>\n",
       "      <td>0.500875</td>\n",
       "      <td>0.338402</td>\n",
       "      <td>0.395610</td>\n",
       "    </tr>\n",
       "  </tbody>\n",
       "</table>\n",
       "</div>"
      ],
      "text/plain": [
       "     Score2    Score1    Score5\n",
       "A  0.321758  0.584218  0.664683\n",
       "B  0.838517  0.630178  0.131934\n",
       "C  0.927480  0.545893  0.734600\n",
       "D  0.191296  0.276412  0.890795\n",
       "E  0.731212  0.473781  0.825305\n",
       "F  0.610624  0.868140  0.452391\n",
       "G  0.817869  0.945561  0.176728\n",
       "H  0.500875  0.338402  0.395610"
      ]
     },
     "execution_count": 29,
     "metadata": {},
     "output_type": "execute_result"
    }
   ],
   "source": [
    "df1[['Score2','Score1','Score5']]"
   ]
  },
  {
   "cell_type": "code",
   "execution_count": 31,
   "id": "962a748a",
   "metadata": {},
   "outputs": [
    {
     "data": {
      "text/html": [
       "<div>\n",
       "<style scoped>\n",
       "    .dataframe tbody tr th:only-of-type {\n",
       "        vertical-align: middle;\n",
       "    }\n",
       "\n",
       "    .dataframe tbody tr th {\n",
       "        vertical-align: top;\n",
       "    }\n",
       "\n",
       "    .dataframe thead th {\n",
       "        text-align: right;\n",
       "    }\n",
       "</style>\n",
       "<table border=\"1\" class=\"dataframe\">\n",
       "  <thead>\n",
       "    <tr style=\"text-align: right;\">\n",
       "      <th></th>\n",
       "      <th>Score1</th>\n",
       "      <th>Score2</th>\n",
       "      <th>Score3</th>\n",
       "      <th>Score4</th>\n",
       "      <th>Score5</th>\n",
       "      <th>Score6</th>\n",
       "    </tr>\n",
       "  </thead>\n",
       "  <tbody>\n",
       "    <tr>\n",
       "      <th>A</th>\n",
       "      <td>0.584218</td>\n",
       "      <td>0.321758</td>\n",
       "      <td>0.335009</td>\n",
       "      <td>0.234869</td>\n",
       "      <td>0.664683</td>\n",
       "      <td>0.249209</td>\n",
       "    </tr>\n",
       "    <tr>\n",
       "      <th>B</th>\n",
       "      <td>0.630178</td>\n",
       "      <td>0.838517</td>\n",
       "      <td>0.081457</td>\n",
       "      <td>0.226407</td>\n",
       "      <td>0.131934</td>\n",
       "      <td>0.548722</td>\n",
       "    </tr>\n",
       "    <tr>\n",
       "      <th>C</th>\n",
       "      <td>0.545893</td>\n",
       "      <td>0.927480</td>\n",
       "      <td>0.375512</td>\n",
       "      <td>0.632587</td>\n",
       "      <td>0.734600</td>\n",
       "      <td>0.170381</td>\n",
       "    </tr>\n",
       "    <tr>\n",
       "      <th>D</th>\n",
       "      <td>0.276412</td>\n",
       "      <td>0.191296</td>\n",
       "      <td>0.165692</td>\n",
       "      <td>0.548404</td>\n",
       "      <td>0.890795</td>\n",
       "      <td>0.110720</td>\n",
       "    </tr>\n",
       "    <tr>\n",
       "      <th>E</th>\n",
       "      <td>0.473781</td>\n",
       "      <td>0.731212</td>\n",
       "      <td>0.645393</td>\n",
       "      <td>0.173904</td>\n",
       "      <td>0.825305</td>\n",
       "      <td>-0.171612</td>\n",
       "    </tr>\n",
       "    <tr>\n",
       "      <th>F</th>\n",
       "      <td>0.868140</td>\n",
       "      <td>0.610624</td>\n",
       "      <td>0.188179</td>\n",
       "      <td>0.821061</td>\n",
       "      <td>0.452391</td>\n",
       "      <td>0.679960</td>\n",
       "    </tr>\n",
       "    <tr>\n",
       "      <th>G</th>\n",
       "      <td>0.945561</td>\n",
       "      <td>0.817869</td>\n",
       "      <td>0.232153</td>\n",
       "      <td>0.954589</td>\n",
       "      <td>0.176728</td>\n",
       "      <td>0.713409</td>\n",
       "    </tr>\n",
       "    <tr>\n",
       "      <th>H</th>\n",
       "      <td>0.338402</td>\n",
       "      <td>0.500875</td>\n",
       "      <td>0.727127</td>\n",
       "      <td>0.064840</td>\n",
       "      <td>0.395610</td>\n",
       "      <td>-0.388725</td>\n",
       "    </tr>\n",
       "  </tbody>\n",
       "</table>\n",
       "</div>"
      ],
      "text/plain": [
       "     Score1    Score2    Score3    Score4    Score5    Score6\n",
       "A  0.584218  0.321758  0.335009  0.234869  0.664683  0.249209\n",
       "B  0.630178  0.838517  0.081457  0.226407  0.131934  0.548722\n",
       "C  0.545893  0.927480  0.375512  0.632587  0.734600  0.170381\n",
       "D  0.276412  0.191296  0.165692  0.548404  0.890795  0.110720\n",
       "E  0.473781  0.731212  0.645393  0.173904  0.825305 -0.171612\n",
       "F  0.868140  0.610624  0.188179  0.821061  0.452391  0.679960\n",
       "G  0.945561  0.817869  0.232153  0.954589  0.176728  0.713409\n",
       "H  0.338402  0.500875  0.727127  0.064840  0.395610 -0.388725"
      ]
     },
     "execution_count": 31,
     "metadata": {},
     "output_type": "execute_result"
    }
   ],
   "source": [
    "df1['Score6']=df1['Score1'] - df1['Score3']\n",
    "df1"
   ]
  },
  {
   "cell_type": "code",
   "execution_count": 32,
   "id": "93448549",
   "metadata": {},
   "outputs": [
    {
     "data": {
      "text/html": [
       "<div>\n",
       "<style scoped>\n",
       "    .dataframe tbody tr th:only-of-type {\n",
       "        vertical-align: middle;\n",
       "    }\n",
       "\n",
       "    .dataframe tbody tr th {\n",
       "        vertical-align: top;\n",
       "    }\n",
       "\n",
       "    .dataframe thead th {\n",
       "        text-align: right;\n",
       "    }\n",
       "</style>\n",
       "<table border=\"1\" class=\"dataframe\">\n",
       "  <thead>\n",
       "    <tr style=\"text-align: right;\">\n",
       "      <th></th>\n",
       "      <th>Score1</th>\n",
       "      <th>Score2</th>\n",
       "      <th>Score3</th>\n",
       "      <th>Score4</th>\n",
       "      <th>Score6</th>\n",
       "    </tr>\n",
       "  </thead>\n",
       "  <tbody>\n",
       "    <tr>\n",
       "      <th>A</th>\n",
       "      <td>0.584218</td>\n",
       "      <td>0.321758</td>\n",
       "      <td>0.335009</td>\n",
       "      <td>0.234869</td>\n",
       "      <td>0.249209</td>\n",
       "    </tr>\n",
       "    <tr>\n",
       "      <th>B</th>\n",
       "      <td>0.630178</td>\n",
       "      <td>0.838517</td>\n",
       "      <td>0.081457</td>\n",
       "      <td>0.226407</td>\n",
       "      <td>0.548722</td>\n",
       "    </tr>\n",
       "    <tr>\n",
       "      <th>C</th>\n",
       "      <td>0.545893</td>\n",
       "      <td>0.927480</td>\n",
       "      <td>0.375512</td>\n",
       "      <td>0.632587</td>\n",
       "      <td>0.170381</td>\n",
       "    </tr>\n",
       "    <tr>\n",
       "      <th>D</th>\n",
       "      <td>0.276412</td>\n",
       "      <td>0.191296</td>\n",
       "      <td>0.165692</td>\n",
       "      <td>0.548404</td>\n",
       "      <td>0.110720</td>\n",
       "    </tr>\n",
       "    <tr>\n",
       "      <th>E</th>\n",
       "      <td>0.473781</td>\n",
       "      <td>0.731212</td>\n",
       "      <td>0.645393</td>\n",
       "      <td>0.173904</td>\n",
       "      <td>-0.171612</td>\n",
       "    </tr>\n",
       "    <tr>\n",
       "      <th>F</th>\n",
       "      <td>0.868140</td>\n",
       "      <td>0.610624</td>\n",
       "      <td>0.188179</td>\n",
       "      <td>0.821061</td>\n",
       "      <td>0.679960</td>\n",
       "    </tr>\n",
       "    <tr>\n",
       "      <th>G</th>\n",
       "      <td>0.945561</td>\n",
       "      <td>0.817869</td>\n",
       "      <td>0.232153</td>\n",
       "      <td>0.954589</td>\n",
       "      <td>0.713409</td>\n",
       "    </tr>\n",
       "    <tr>\n",
       "      <th>H</th>\n",
       "      <td>0.338402</td>\n",
       "      <td>0.500875</td>\n",
       "      <td>0.727127</td>\n",
       "      <td>0.064840</td>\n",
       "      <td>-0.388725</td>\n",
       "    </tr>\n",
       "  </tbody>\n",
       "</table>\n",
       "</div>"
      ],
      "text/plain": [
       "     Score1    Score2    Score3    Score4    Score6\n",
       "A  0.584218  0.321758  0.335009  0.234869  0.249209\n",
       "B  0.630178  0.838517  0.081457  0.226407  0.548722\n",
       "C  0.545893  0.927480  0.375512  0.632587  0.170381\n",
       "D  0.276412  0.191296  0.165692  0.548404  0.110720\n",
       "E  0.473781  0.731212  0.645393  0.173904 -0.171612\n",
       "F  0.868140  0.610624  0.188179  0.821061  0.679960\n",
       "G  0.945561  0.817869  0.232153  0.954589  0.713409\n",
       "H  0.338402  0.500875  0.727127  0.064840 -0.388725"
      ]
     },
     "execution_count": 32,
     "metadata": {},
     "output_type": "execute_result"
    }
   ],
   "source": [
    "df1.drop('Score5',axis=1)"
   ]
  },
  {
   "cell_type": "code",
   "execution_count": 33,
   "id": "db22aee6",
   "metadata": {},
   "outputs": [
    {
     "data": {
      "text/html": [
       "<div>\n",
       "<style scoped>\n",
       "    .dataframe tbody tr th:only-of-type {\n",
       "        vertical-align: middle;\n",
       "    }\n",
       "\n",
       "    .dataframe tbody tr th {\n",
       "        vertical-align: top;\n",
       "    }\n",
       "\n",
       "    .dataframe thead th {\n",
       "        text-align: right;\n",
       "    }\n",
       "</style>\n",
       "<table border=\"1\" class=\"dataframe\">\n",
       "  <thead>\n",
       "    <tr style=\"text-align: right;\">\n",
       "      <th></th>\n",
       "      <th>Score1</th>\n",
       "      <th>Score2</th>\n",
       "      <th>Score3</th>\n",
       "      <th>Score4</th>\n",
       "      <th>Score5</th>\n",
       "      <th>Score6</th>\n",
       "    </tr>\n",
       "  </thead>\n",
       "  <tbody>\n",
       "    <tr>\n",
       "      <th>A</th>\n",
       "      <td>0.584218</td>\n",
       "      <td>0.321758</td>\n",
       "      <td>0.335009</td>\n",
       "      <td>0.234869</td>\n",
       "      <td>0.664683</td>\n",
       "      <td>0.249209</td>\n",
       "    </tr>\n",
       "    <tr>\n",
       "      <th>B</th>\n",
       "      <td>0.630178</td>\n",
       "      <td>0.838517</td>\n",
       "      <td>0.081457</td>\n",
       "      <td>0.226407</td>\n",
       "      <td>0.131934</td>\n",
       "      <td>0.548722</td>\n",
       "    </tr>\n",
       "    <tr>\n",
       "      <th>C</th>\n",
       "      <td>0.545893</td>\n",
       "      <td>0.927480</td>\n",
       "      <td>0.375512</td>\n",
       "      <td>0.632587</td>\n",
       "      <td>0.734600</td>\n",
       "      <td>0.170381</td>\n",
       "    </tr>\n",
       "    <tr>\n",
       "      <th>D</th>\n",
       "      <td>0.276412</td>\n",
       "      <td>0.191296</td>\n",
       "      <td>0.165692</td>\n",
       "      <td>0.548404</td>\n",
       "      <td>0.890795</td>\n",
       "      <td>0.110720</td>\n",
       "    </tr>\n",
       "    <tr>\n",
       "      <th>F</th>\n",
       "      <td>0.868140</td>\n",
       "      <td>0.610624</td>\n",
       "      <td>0.188179</td>\n",
       "      <td>0.821061</td>\n",
       "      <td>0.452391</td>\n",
       "      <td>0.679960</td>\n",
       "    </tr>\n",
       "    <tr>\n",
       "      <th>G</th>\n",
       "      <td>0.945561</td>\n",
       "      <td>0.817869</td>\n",
       "      <td>0.232153</td>\n",
       "      <td>0.954589</td>\n",
       "      <td>0.176728</td>\n",
       "      <td>0.713409</td>\n",
       "    </tr>\n",
       "    <tr>\n",
       "      <th>H</th>\n",
       "      <td>0.338402</td>\n",
       "      <td>0.500875</td>\n",
       "      <td>0.727127</td>\n",
       "      <td>0.064840</td>\n",
       "      <td>0.395610</td>\n",
       "      <td>-0.388725</td>\n",
       "    </tr>\n",
       "  </tbody>\n",
       "</table>\n",
       "</div>"
      ],
      "text/plain": [
       "     Score1    Score2    Score3    Score4    Score5    Score6\n",
       "A  0.584218  0.321758  0.335009  0.234869  0.664683  0.249209\n",
       "B  0.630178  0.838517  0.081457  0.226407  0.131934  0.548722\n",
       "C  0.545893  0.927480  0.375512  0.632587  0.734600  0.170381\n",
       "D  0.276412  0.191296  0.165692  0.548404  0.890795  0.110720\n",
       "F  0.868140  0.610624  0.188179  0.821061  0.452391  0.679960\n",
       "G  0.945561  0.817869  0.232153  0.954589  0.176728  0.713409\n",
       "H  0.338402  0.500875  0.727127  0.064840  0.395610 -0.388725"
      ]
     },
     "execution_count": 33,
     "metadata": {},
     "output_type": "execute_result"
    }
   ],
   "source": [
    "df1.drop(\"E\")"
   ]
  },
  {
   "cell_type": "code",
   "execution_count": 34,
   "id": "19b5e0fc",
   "metadata": {},
   "outputs": [
    {
     "data": {
      "text/html": [
       "<div>\n",
       "<style scoped>\n",
       "    .dataframe tbody tr th:only-of-type {\n",
       "        vertical-align: middle;\n",
       "    }\n",
       "\n",
       "    .dataframe tbody tr th {\n",
       "        vertical-align: top;\n",
       "    }\n",
       "\n",
       "    .dataframe thead th {\n",
       "        text-align: right;\n",
       "    }\n",
       "</style>\n",
       "<table border=\"1\" class=\"dataframe\">\n",
       "  <thead>\n",
       "    <tr style=\"text-align: right;\">\n",
       "      <th></th>\n",
       "      <th>ID</th>\n",
       "      <th>Name</th>\n",
       "      <th>Profit</th>\n",
       "    </tr>\n",
       "  </thead>\n",
       "  <tbody>\n",
       "    <tr>\n",
       "      <th>0</th>\n",
       "      <td>101</td>\n",
       "      <td>John</td>\n",
       "      <td>20</td>\n",
       "    </tr>\n",
       "    <tr>\n",
       "      <th>1</th>\n",
       "      <td>102</td>\n",
       "      <td>Mercy</td>\n",
       "      <td>54</td>\n",
       "    </tr>\n",
       "    <tr>\n",
       "      <th>2</th>\n",
       "      <td>103</td>\n",
       "      <td>Akash</td>\n",
       "      <td>56</td>\n",
       "    </tr>\n",
       "    <tr>\n",
       "      <th>3</th>\n",
       "      <td>107</td>\n",
       "      <td>Kavin</td>\n",
       "      <td>87</td>\n",
       "    </tr>\n",
       "    <tr>\n",
       "      <th>4</th>\n",
       "      <td>176</td>\n",
       "      <td>Lally</td>\n",
       "      <td>123</td>\n",
       "    </tr>\n",
       "  </tbody>\n",
       "</table>\n",
       "</div>"
      ],
      "text/plain": [
       "    ID   Name  Profit\n",
       "0  101   John      20\n",
       "1  102  Mercy      54\n",
       "2  103  Akash      56\n",
       "3  107  Kavin      87\n",
       "4  176  Lally     123"
      ]
     },
     "execution_count": 34,
     "metadata": {},
     "output_type": "execute_result"
    }
   ],
   "source": [
    "df2={'ID': [101,102,103,107,176],'Name':['John','Mercy','Akash','Kavin','Lally'],'Profit':[20,54,56,87,123]}\n",
    "df=pd.DataFrame(df2)\n",
    "df"
   ]
  },
  {
   "cell_type": "code",
   "execution_count": null,
   "id": "0a979f2d",
   "metadata": {},
   "outputs": [],
   "source": []
  },
  {
   "cell_type": "code",
   "execution_count": 35,
   "id": "ccbb90ec",
   "metadata": {},
   "outputs": [],
   "source": [
    "###Assessment\n",
    "#1. create a null vector of size 10.\n",
    "#2. create a null vector of size 10 but fifth value should be one.\n",
    "#3. create a vector with values ranging from 10 to 65.\n",
    "#4. Reverse the above vector.\n",
    "#5. create a 3*3 matrix with values ranging from 0 to 8."
   ]
  },
  {
   "cell_type": "code",
   "execution_count": 37,
   "id": "027b4fba",
   "metadata": {},
   "outputs": [
    {
     "data": {
      "text/plain": [
       "array([0., 0., 0., 0., 0., 0., 0., 0., 0., 0.])"
      ]
     },
     "execution_count": 37,
     "metadata": {},
     "output_type": "execute_result"
    }
   ],
   "source": [
    "import numpy as np\n",
    "np.zeros(10)"
   ]
  },
  {
   "cell_type": "code",
   "execution_count": 38,
   "id": "03769eca",
   "metadata": {},
   "outputs": [
    {
     "data": {
      "text/plain": [
       "array([0., 0., 0., 0., 1., 0., 0., 0., 0., 0.])"
      ]
     },
     "execution_count": 38,
     "metadata": {},
     "output_type": "execute_result"
    }
   ],
   "source": [
    "a=np.zeros(10)\n",
    "a[4]=1\n",
    "a"
   ]
  },
  {
   "cell_type": "code",
   "execution_count": 39,
   "id": "b962b063",
   "metadata": {},
   "outputs": [
    {
     "data": {
      "text/plain": [
       "array([10, 11, 12, 13, 14, 15, 16, 17, 18, 19, 20, 21, 22, 23, 24, 25, 26,\n",
       "       27, 28, 29, 30, 31, 32, 33, 34, 35, 36, 37, 38, 39, 40, 41, 42, 43,\n",
       "       44, 45, 46, 47, 48, 49, 50, 51, 52, 53, 54, 55, 56, 57, 58, 59, 60,\n",
       "       61, 62, 63, 64, 65])"
      ]
     },
     "execution_count": 39,
     "metadata": {},
     "output_type": "execute_result"
    }
   ],
   "source": [
    "z=np.arange(10,66)\n",
    "z"
   ]
  },
  {
   "cell_type": "code",
   "execution_count": 42,
   "id": "3e85b98f",
   "metadata": {},
   "outputs": [
    {
     "data": {
      "text/plain": [
       "array([65, 64, 63, 62, 61, 60, 59, 58, 57, 56, 55, 54, 53, 52, 51, 50, 49,\n",
       "       48, 47, 46, 45, 44, 43, 42, 41, 40, 39, 38, 37, 36, 35, 34, 33, 32,\n",
       "       31, 30, 29, 28, 27, 26, 25, 24, 23, 22, 21, 20, 19, 18, 17, 16, 15,\n",
       "       14, 13, 12, 11, 10])"
      ]
     },
     "execution_count": 42,
     "metadata": {},
     "output_type": "execute_result"
    }
   ],
   "source": [
    "z[:: -1]"
   ]
  },
  {
   "cell_type": "code",
   "execution_count": 44,
   "id": "d796da08",
   "metadata": {},
   "outputs": [
    {
     "data": {
      "text/plain": [
       "array([65, 64, 63, 62, 61, 60, 59, 58, 57, 56, 55, 54, 53, 52, 51, 50, 49,\n",
       "       48, 47, 46, 45, 44, 43, 42, 41, 40, 39, 38, 37, 36, 35, 34, 33, 32,\n",
       "       31, 30, 29, 28, 27, 26, 25, 24, 23, 22, 21, 20, 19, 18, 17, 16, 15,\n",
       "       14, 13, 12, 11, 10])"
      ]
     },
     "execution_count": 44,
     "metadata": {},
     "output_type": "execute_result"
    }
   ],
   "source": [
    "z=np.arange(65,9,-1)\n",
    "z"
   ]
  },
  {
   "cell_type": "code",
   "execution_count": 45,
   "id": "1ba0fdf8",
   "metadata": {},
   "outputs": [
    {
     "name": "stdout",
     "output_type": "stream",
     "text": [
      "[[0 1 2]\n",
      " [3 4 5]\n",
      " [6 7 8]]\n"
     ]
    }
   ],
   "source": [
    "x=np.arange(0,9).reshape(3,3)\n",
    "print(x)"
   ]
  },
  {
   "cell_type": "code",
   "execution_count": null,
   "id": "732e40dd",
   "metadata": {},
   "outputs": [],
   "source": []
  }
 ],
 "metadata": {
  "kernelspec": {
   "display_name": "Python 3",
   "language": "python",
   "name": "python3"
  },
  "language_info": {
   "codemirror_mode": {
    "name": "ipython",
    "version": 3
   },
   "file_extension": ".py",
   "mimetype": "text/x-python",
   "name": "python",
   "nbconvert_exporter": "python",
   "pygments_lexer": "ipython3",
   "version": "3.8.8"
  }
 },
 "nbformat": 4,
 "nbformat_minor": 5
}
