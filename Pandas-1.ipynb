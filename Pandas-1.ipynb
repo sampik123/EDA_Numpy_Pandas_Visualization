{
 "cells": [
  {
   "cell_type": "code",
   "execution_count": 1,
   "id": "22245f1b",
   "metadata": {},
   "outputs": [
    {
     "data": {
      "text/html": [
       "<div>\n",
       "<style scoped>\n",
       "    .dataframe tbody tr th:only-of-type {\n",
       "        vertical-align: middle;\n",
       "    }\n",
       "\n",
       "    .dataframe tbody tr th {\n",
       "        vertical-align: top;\n",
       "    }\n",
       "\n",
       "    .dataframe thead th {\n",
       "        text-align: right;\n",
       "    }\n",
       "</style>\n",
       "<table border=\"1\" class=\"dataframe\">\n",
       "  <thead>\n",
       "    <tr style=\"text-align: right;\">\n",
       "      <th></th>\n",
       "      <th>Name</th>\n",
       "      <th>age</th>\n",
       "    </tr>\n",
       "  </thead>\n",
       "  <tbody>\n",
       "    <tr>\n",
       "      <th>0</th>\n",
       "      <td>Sampik</td>\n",
       "      <td>20</td>\n",
       "    </tr>\n",
       "    <tr>\n",
       "      <th>1</th>\n",
       "      <td>Ayush</td>\n",
       "      <td>25</td>\n",
       "    </tr>\n",
       "    <tr>\n",
       "      <th>2</th>\n",
       "      <td>Abhay</td>\n",
       "      <td>30</td>\n",
       "    </tr>\n",
       "  </tbody>\n",
       "</table>\n",
       "</div>"
      ],
      "text/plain": [
       "     Name  age\n",
       "0  Sampik   20\n",
       "1   Ayush   25\n",
       "2   Abhay   30"
      ]
     },
     "execution_count": 1,
     "metadata": {},
     "output_type": "execute_result"
    }
   ],
   "source": [
    "import pandas as pd\n",
    "\n",
    "\n",
    "dataset = {\n",
    "'Name' : ['Sampik','Ayush','Abhay'],\n",
    "'age' : [20,25,30]\n",
    "}\n",
    "\n",
    "pd.DataFrame(dataset)"
   ]
  },
  {
   "cell_type": "code",
   "execution_count": 2,
   "id": "6e49e4fd",
   "metadata": {},
   "outputs": [
    {
     "data": {
      "text/plain": [
       "x    1\n",
       "y    2\n",
       "z    3\n",
       "dtype: int64"
      ]
     },
     "execution_count": 2,
     "metadata": {},
     "output_type": "execute_result"
    }
   ],
   "source": [
    "a = [1,2,3]\n",
    "\n",
    "pd.Series(a, index = [\"x\",\"y\",\"z\"])"
   ]
  },
  {
   "cell_type": "code",
   "execution_count": 3,
   "id": "3a7d5e2f",
   "metadata": {},
   "outputs": [],
   "source": [
    "import numpy as np"
   ]
  },
  {
   "cell_type": "code",
   "execution_count": 4,
   "id": "168b62a2",
   "metadata": {},
   "outputs": [
    {
     "data": {
      "text/plain": [
       "array([[0.47163542, 0.58016229, 0.60779747, 0.84623512, 0.65073525],\n",
       "       [0.69054147, 0.55416101, 0.37518147, 0.48520247, 0.49524087],\n",
       "       [0.45725635, 0.82829533, 0.33464362, 0.95697006, 0.35913929],\n",
       "       [0.98342326, 0.70954071, 0.35805141, 0.10027754, 0.86451591],\n",
       "       [0.43756087, 0.92491268, 0.97302318, 0.36713648, 0.35855875]])"
      ]
     },
     "execution_count": 4,
     "metadata": {},
     "output_type": "execute_result"
    }
   ],
   "source": [
    "np.random.rand(5,5)"
   ]
  },
  {
   "cell_type": "code",
   "execution_count": 7,
   "id": "0f905d8a",
   "metadata": {},
   "outputs": [
    {
     "data": {
      "text/html": [
       "<div>\n",
       "<style scoped>\n",
       "    .dataframe tbody tr th:only-of-type {\n",
       "        vertical-align: middle;\n",
       "    }\n",
       "\n",
       "    .dataframe tbody tr th {\n",
       "        vertical-align: top;\n",
       "    }\n",
       "\n",
       "    .dataframe thead th {\n",
       "        text-align: right;\n",
       "    }\n",
       "</style>\n",
       "<table border=\"1\" class=\"dataframe\">\n",
       "  <thead>\n",
       "    <tr style=\"text-align: right;\">\n",
       "      <th></th>\n",
       "      <th>abc</th>\n",
       "      <th>def</th>\n",
       "      <th>ghi</th>\n",
       "      <th>jkl</th>\n",
       "      <th>mno</th>\n",
       "    </tr>\n",
       "  </thead>\n",
       "  <tbody>\n",
       "    <tr>\n",
       "      <th>a</th>\n",
       "      <td>0.039549</td>\n",
       "      <td>0.058897</td>\n",
       "      <td>0.777812</td>\n",
       "      <td>0.342917</td>\n",
       "      <td>0.777833</td>\n",
       "    </tr>\n",
       "    <tr>\n",
       "      <th>b</th>\n",
       "      <td>0.305343</td>\n",
       "      <td>0.279258</td>\n",
       "      <td>0.783041</td>\n",
       "      <td>0.007772</td>\n",
       "      <td>0.641948</td>\n",
       "    </tr>\n",
       "    <tr>\n",
       "      <th>c</th>\n",
       "      <td>0.597115</td>\n",
       "      <td>0.819721</td>\n",
       "      <td>0.335092</td>\n",
       "      <td>0.409056</td>\n",
       "      <td>0.030376</td>\n",
       "    </tr>\n",
       "    <tr>\n",
       "      <th>d</th>\n",
       "      <td>0.076892</td>\n",
       "      <td>0.802920</td>\n",
       "      <td>0.437362</td>\n",
       "      <td>0.477870</td>\n",
       "      <td>0.221412</td>\n",
       "    </tr>\n",
       "    <tr>\n",
       "      <th>e</th>\n",
       "      <td>0.382478</td>\n",
       "      <td>0.399334</td>\n",
       "      <td>0.653542</td>\n",
       "      <td>0.534011</td>\n",
       "      <td>0.287787</td>\n",
       "    </tr>\n",
       "  </tbody>\n",
       "</table>\n",
       "</div>"
      ],
      "text/plain": [
       "        abc       def       ghi       jkl       mno\n",
       "a  0.039549  0.058897  0.777812  0.342917  0.777833\n",
       "b  0.305343  0.279258  0.783041  0.007772  0.641948\n",
       "c  0.597115  0.819721  0.335092  0.409056  0.030376\n",
       "d  0.076892  0.802920  0.437362  0.477870  0.221412\n",
       "e  0.382478  0.399334  0.653542  0.534011  0.287787"
      ]
     },
     "execution_count": 7,
     "metadata": {},
     "output_type": "execute_result"
    }
   ],
   "source": [
    "df =pd.DataFrame(np.random.rand(5,5), index = 'a b c d e'.split(), columns = 'abc def ghi jkl mno'.split())\n",
    "df"
   ]
  },
  {
   "cell_type": "code",
   "execution_count": 8,
   "id": "80501449",
   "metadata": {},
   "outputs": [
    {
     "data": {
      "text/html": [
       "<div>\n",
       "<style scoped>\n",
       "    .dataframe tbody tr th:only-of-type {\n",
       "        vertical-align: middle;\n",
       "    }\n",
       "\n",
       "    .dataframe tbody tr th {\n",
       "        vertical-align: top;\n",
       "    }\n",
       "\n",
       "    .dataframe thead th {\n",
       "        text-align: right;\n",
       "    }\n",
       "</style>\n",
       "<table border=\"1\" class=\"dataframe\">\n",
       "  <thead>\n",
       "    <tr style=\"text-align: right;\">\n",
       "      <th></th>\n",
       "      <th>def</th>\n",
       "      <th>ghi</th>\n",
       "      <th>jkl</th>\n",
       "      <th>mno</th>\n",
       "    </tr>\n",
       "  </thead>\n",
       "  <tbody>\n",
       "    <tr>\n",
       "      <th>a</th>\n",
       "      <td>0.058897</td>\n",
       "      <td>0.777812</td>\n",
       "      <td>0.342917</td>\n",
       "      <td>0.777833</td>\n",
       "    </tr>\n",
       "    <tr>\n",
       "      <th>b</th>\n",
       "      <td>0.279258</td>\n",
       "      <td>0.783041</td>\n",
       "      <td>0.007772</td>\n",
       "      <td>0.641948</td>\n",
       "    </tr>\n",
       "    <tr>\n",
       "      <th>c</th>\n",
       "      <td>0.819721</td>\n",
       "      <td>0.335092</td>\n",
       "      <td>0.409056</td>\n",
       "      <td>0.030376</td>\n",
       "    </tr>\n",
       "    <tr>\n",
       "      <th>d</th>\n",
       "      <td>0.802920</td>\n",
       "      <td>0.437362</td>\n",
       "      <td>0.477870</td>\n",
       "      <td>0.221412</td>\n",
       "    </tr>\n",
       "    <tr>\n",
       "      <th>e</th>\n",
       "      <td>0.399334</td>\n",
       "      <td>0.653542</td>\n",
       "      <td>0.534011</td>\n",
       "      <td>0.287787</td>\n",
       "    </tr>\n",
       "  </tbody>\n",
       "</table>\n",
       "</div>"
      ],
      "text/plain": [
       "        def       ghi       jkl       mno\n",
       "a  0.058897  0.777812  0.342917  0.777833\n",
       "b  0.279258  0.783041  0.007772  0.641948\n",
       "c  0.819721  0.335092  0.409056  0.030376\n",
       "d  0.802920  0.437362  0.477870  0.221412\n",
       "e  0.399334  0.653542  0.534011  0.287787"
      ]
     },
     "execution_count": 8,
     "metadata": {},
     "output_type": "execute_result"
    }
   ],
   "source": [
    "df.drop('abc',axis = 1)   #axis = 1 means, it is representing the column. "
   ]
  },
  {
   "cell_type": "code",
   "execution_count": 10,
   "id": "d24b32ea",
   "metadata": {},
   "outputs": [
    {
     "data": {
      "text/html": [
       "<div>\n",
       "<style scoped>\n",
       "    .dataframe tbody tr th:only-of-type {\n",
       "        vertical-align: middle;\n",
       "    }\n",
       "\n",
       "    .dataframe tbody tr th {\n",
       "        vertical-align: top;\n",
       "    }\n",
       "\n",
       "    .dataframe thead th {\n",
       "        text-align: right;\n",
       "    }\n",
       "</style>\n",
       "<table border=\"1\" class=\"dataframe\">\n",
       "  <thead>\n",
       "    <tr style=\"text-align: right;\">\n",
       "      <th></th>\n",
       "      <th>abc</th>\n",
       "      <th>def</th>\n",
       "      <th>ghi</th>\n",
       "      <th>jkl</th>\n",
       "      <th>mno</th>\n",
       "    </tr>\n",
       "  </thead>\n",
       "  <tbody>\n",
       "    <tr>\n",
       "      <th>a</th>\n",
       "      <td>0.039549</td>\n",
       "      <td>0.058897</td>\n",
       "      <td>0.777812</td>\n",
       "      <td>0.342917</td>\n",
       "      <td>0.777833</td>\n",
       "    </tr>\n",
       "    <tr>\n",
       "      <th>b</th>\n",
       "      <td>0.305343</td>\n",
       "      <td>0.279258</td>\n",
       "      <td>0.783041</td>\n",
       "      <td>0.007772</td>\n",
       "      <td>0.641948</td>\n",
       "    </tr>\n",
       "    <tr>\n",
       "      <th>d</th>\n",
       "      <td>0.076892</td>\n",
       "      <td>0.802920</td>\n",
       "      <td>0.437362</td>\n",
       "      <td>0.477870</td>\n",
       "      <td>0.221412</td>\n",
       "    </tr>\n",
       "    <tr>\n",
       "      <th>e</th>\n",
       "      <td>0.382478</td>\n",
       "      <td>0.399334</td>\n",
       "      <td>0.653542</td>\n",
       "      <td>0.534011</td>\n",
       "      <td>0.287787</td>\n",
       "    </tr>\n",
       "  </tbody>\n",
       "</table>\n",
       "</div>"
      ],
      "text/plain": [
       "        abc       def       ghi       jkl       mno\n",
       "a  0.039549  0.058897  0.777812  0.342917  0.777833\n",
       "b  0.305343  0.279258  0.783041  0.007772  0.641948\n",
       "d  0.076892  0.802920  0.437362  0.477870  0.221412\n",
       "e  0.382478  0.399334  0.653542  0.534011  0.287787"
      ]
     },
     "execution_count": 10,
     "metadata": {},
     "output_type": "execute_result"
    }
   ],
   "source": [
    "df.drop('c')   # by default, it is taking axis = 0 which is represnting the row"
   ]
  },
  {
   "cell_type": "code",
   "execution_count": 11,
   "id": "07d806e1",
   "metadata": {},
   "outputs": [
    {
     "data": {
      "text/html": [
       "<div>\n",
       "<style scoped>\n",
       "    .dataframe tbody tr th:only-of-type {\n",
       "        vertical-align: middle;\n",
       "    }\n",
       "\n",
       "    .dataframe tbody tr th {\n",
       "        vertical-align: top;\n",
       "    }\n",
       "\n",
       "    .dataframe thead th {\n",
       "        text-align: right;\n",
       "    }\n",
       "</style>\n",
       "<table border=\"1\" class=\"dataframe\">\n",
       "  <thead>\n",
       "    <tr style=\"text-align: right;\">\n",
       "      <th></th>\n",
       "      <th>abc</th>\n",
       "      <th>bef</th>\n",
       "      <th>ghi</th>\n",
       "    </tr>\n",
       "  </thead>\n",
       "  <tbody>\n",
       "    <tr>\n",
       "      <th>0</th>\n",
       "      <td>1</td>\n",
       "      <td>6</td>\n",
       "      <td>11</td>\n",
       "    </tr>\n",
       "    <tr>\n",
       "      <th>1</th>\n",
       "      <td>2</td>\n",
       "      <td>7</td>\n",
       "      <td>12</td>\n",
       "    </tr>\n",
       "    <tr>\n",
       "      <th>2</th>\n",
       "      <td>3</td>\n",
       "      <td>8</td>\n",
       "      <td>13</td>\n",
       "    </tr>\n",
       "    <tr>\n",
       "      <th>3</th>\n",
       "      <td>4</td>\n",
       "      <td>9</td>\n",
       "      <td>14</td>\n",
       "    </tr>\n",
       "    <tr>\n",
       "      <th>4</th>\n",
       "      <td>5</td>\n",
       "      <td>10</td>\n",
       "      <td>15</td>\n",
       "    </tr>\n",
       "  </tbody>\n",
       "</table>\n",
       "</div>"
      ],
      "text/plain": [
       "   abc  bef  ghi\n",
       "0    1    6   11\n",
       "1    2    7   12\n",
       "2    3    8   13\n",
       "3    4    9   14\n",
       "4    5   10   15"
      ]
     },
     "execution_count": 11,
     "metadata": {},
     "output_type": "execute_result"
    }
   ],
   "source": [
    "dictionary = {'abc' : [1,2,3,4,5], 'bef' : [6,7,8,9,10], 'ghi' : [11,12,13,14,15]}\n",
    "\n",
    "pd.DataFrame(dictionary)"
   ]
  },
  {
   "cell_type": "code",
   "execution_count": 12,
   "id": "106c95ca",
   "metadata": {},
   "outputs": [
    {
     "data": {
      "text/plain": [
       "array([0., 0., 0., 0., 0., 0., 0., 0., 0., 0.])"
      ]
     },
     "execution_count": 12,
     "metadata": {},
     "output_type": "execute_result"
    }
   ],
   "source": [
    "np.zeros(10)"
   ]
  },
  {
   "cell_type": "code",
   "execution_count": 13,
   "id": "eafb4fa8",
   "metadata": {},
   "outputs": [
    {
     "data": {
      "text/plain": [
       "array([ 5,  6,  7,  8,  9, 10, 11, 12, 13, 14, 15, 16, 17, 18, 19])"
      ]
     },
     "execution_count": 13,
     "metadata": {},
     "output_type": "execute_result"
    }
   ],
   "source": [
    "np.arange(5,20)"
   ]
  },
  {
   "cell_type": "code",
   "execution_count": 16,
   "id": "e6d5287d",
   "metadata": {},
   "outputs": [
    {
     "data": {
      "text/plain": [
       "array([[ 5,  6,  7,  8,  9],\n",
       "       [10, 11, 12, 13, 14],\n",
       "       [15, 16, 17, 18, 19]])"
      ]
     },
     "execution_count": 16,
     "metadata": {},
     "output_type": "execute_result"
    }
   ],
   "source": [
    "np.arange(5,20).reshape(3,5)"
   ]
  },
  {
   "cell_type": "code",
   "execution_count": 18,
   "id": "745af0e4",
   "metadata": {},
   "outputs": [
    {
     "data": {
      "text/plain": [
       "array([60, 59, 58, 57, 56, 55, 54, 53, 52, 51, 50, 49, 48, 47, 46, 45, 44,\n",
       "       43, 42, 41, 40, 39, 38, 37, 36, 35, 34, 33, 32, 31, 30, 29, 28, 27,\n",
       "       26, 25, 24, 23, 22, 21, 20, 19, 18, 17, 16, 15, 14, 13, 12, 11, 10,\n",
       "        9,  8,  7,  6])"
      ]
     },
     "execution_count": 18,
     "metadata": {},
     "output_type": "execute_result"
    }
   ],
   "source": [
    "np.arange(60,5,-1)"
   ]
  },
  {
   "cell_type": "code",
   "execution_count": 19,
   "id": "847cd18b",
   "metadata": {},
   "outputs": [
    {
     "data": {
      "text/plain": [
       "(5, 5)"
      ]
     },
     "execution_count": 19,
     "metadata": {},
     "output_type": "execute_result"
    }
   ],
   "source": [
    "df.shape"
   ]
  },
  {
   "cell_type": "code",
   "execution_count": 21,
   "id": "093c0c95",
   "metadata": {},
   "outputs": [
    {
     "data": {
      "text/plain": [
       "abc    float64\n",
       "def    float64\n",
       "ghi    float64\n",
       "jkl    float64\n",
       "mno    float64\n",
       "dtype: object"
      ]
     },
     "execution_count": 21,
     "metadata": {},
     "output_type": "execute_result"
    }
   ],
   "source": [
    "df.dtypes"
   ]
  },
  {
   "cell_type": "code",
   "execution_count": 24,
   "id": "ad24447d",
   "metadata": {},
   "outputs": [
    {
     "data": {
      "text/html": [
       "<div>\n",
       "<style scoped>\n",
       "    .dataframe tbody tr th:only-of-type {\n",
       "        vertical-align: middle;\n",
       "    }\n",
       "\n",
       "    .dataframe tbody tr th {\n",
       "        vertical-align: top;\n",
       "    }\n",
       "\n",
       "    .dataframe thead th {\n",
       "        text-align: right;\n",
       "    }\n",
       "</style>\n",
       "<table border=\"1\" class=\"dataframe\">\n",
       "  <thead>\n",
       "    <tr style=\"text-align: right;\">\n",
       "      <th></th>\n",
       "      <th>abc</th>\n",
       "      <th>def</th>\n",
       "      <th>ghi</th>\n",
       "      <th>jkl</th>\n",
       "      <th>mno</th>\n",
       "    </tr>\n",
       "  </thead>\n",
       "  <tbody>\n",
       "    <tr>\n",
       "      <th>count</th>\n",
       "      <td>5.000000</td>\n",
       "      <td>5.000000</td>\n",
       "      <td>5.000000</td>\n",
       "      <td>5.000000</td>\n",
       "      <td>5.000000</td>\n",
       "    </tr>\n",
       "    <tr>\n",
       "      <th>mean</th>\n",
       "      <td>0.280275</td>\n",
       "      <td>0.472026</td>\n",
       "      <td>0.597370</td>\n",
       "      <td>0.354325</td>\n",
       "      <td>0.391871</td>\n",
       "    </tr>\n",
       "    <tr>\n",
       "      <th>std</th>\n",
       "      <td>0.229551</td>\n",
       "      <td>0.332980</td>\n",
       "      <td>0.202843</td>\n",
       "      <td>0.206625</td>\n",
       "      <td>0.309060</td>\n",
       "    </tr>\n",
       "    <tr>\n",
       "      <th>min</th>\n",
       "      <td>0.039549</td>\n",
       "      <td>0.058897</td>\n",
       "      <td>0.335092</td>\n",
       "      <td>0.007772</td>\n",
       "      <td>0.030376</td>\n",
       "    </tr>\n",
       "    <tr>\n",
       "      <th>25%</th>\n",
       "      <td>0.076892</td>\n",
       "      <td>0.279258</td>\n",
       "      <td>0.437362</td>\n",
       "      <td>0.342917</td>\n",
       "      <td>0.221412</td>\n",
       "    </tr>\n",
       "    <tr>\n",
       "      <th>50%</th>\n",
       "      <td>0.305343</td>\n",
       "      <td>0.399334</td>\n",
       "      <td>0.653542</td>\n",
       "      <td>0.409056</td>\n",
       "      <td>0.287787</td>\n",
       "    </tr>\n",
       "    <tr>\n",
       "      <th>75%</th>\n",
       "      <td>0.382478</td>\n",
       "      <td>0.802920</td>\n",
       "      <td>0.777812</td>\n",
       "      <td>0.477870</td>\n",
       "      <td>0.641948</td>\n",
       "    </tr>\n",
       "    <tr>\n",
       "      <th>max</th>\n",
       "      <td>0.597115</td>\n",
       "      <td>0.819721</td>\n",
       "      <td>0.783041</td>\n",
       "      <td>0.534011</td>\n",
       "      <td>0.777833</td>\n",
       "    </tr>\n",
       "  </tbody>\n",
       "</table>\n",
       "</div>"
      ],
      "text/plain": [
       "            abc       def       ghi       jkl       mno\n",
       "count  5.000000  5.000000  5.000000  5.000000  5.000000\n",
       "mean   0.280275  0.472026  0.597370  0.354325  0.391871\n",
       "std    0.229551  0.332980  0.202843  0.206625  0.309060\n",
       "min    0.039549  0.058897  0.335092  0.007772  0.030376\n",
       "25%    0.076892  0.279258  0.437362  0.342917  0.221412\n",
       "50%    0.305343  0.399334  0.653542  0.409056  0.287787\n",
       "75%    0.382478  0.802920  0.777812  0.477870  0.641948\n",
       "max    0.597115  0.819721  0.783041  0.534011  0.777833"
      ]
     },
     "execution_count": 24,
     "metadata": {},
     "output_type": "execute_result"
    }
   ],
   "source": [
    "df.describe()"
   ]
  },
  {
   "cell_type": "code",
   "execution_count": 25,
   "id": "4b59dcc5",
   "metadata": {},
   "outputs": [
    {
     "name": "stdout",
     "output_type": "stream",
     "text": [
      "<class 'pandas.core.frame.DataFrame'>\n",
      "Index: 5 entries, a to e\n",
      "Data columns (total 5 columns):\n",
      " #   Column  Non-Null Count  Dtype  \n",
      "---  ------  --------------  -----  \n",
      " 0   abc     5 non-null      float64\n",
      " 1   def     5 non-null      float64\n",
      " 2   ghi     5 non-null      float64\n",
      " 3   jkl     5 non-null      float64\n",
      " 4   mno     5 non-null      float64\n",
      "dtypes: float64(5)\n",
      "memory usage: 412.0+ bytes\n"
     ]
    }
   ],
   "source": [
    "df.info()"
   ]
  },
  {
   "cell_type": "code",
   "execution_count": null,
   "id": "06783976",
   "metadata": {},
   "outputs": [],
   "source": []
  }
 ],
 "metadata": {
  "kernelspec": {
   "display_name": "Python 3 (ipykernel)",
   "language": "python",
   "name": "python3"
  },
  "language_info": {
   "codemirror_mode": {
    "name": "ipython",
    "version": 3
   },
   "file_extension": ".py",
   "mimetype": "text/x-python",
   "name": "python",
   "nbconvert_exporter": "python",
   "pygments_lexer": "ipython3",
   "version": "3.9.7"
  }
 },
 "nbformat": 4,
 "nbformat_minor": 5
}
